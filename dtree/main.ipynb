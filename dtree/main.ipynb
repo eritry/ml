{
 "cells": [
  {
   "cell_type": "code",
   "execution_count": 1,
   "metadata": {},
   "outputs": [],
   "source": [
    "import numpy as np\n",
    "import pandas as pd\n",
    "from matplotlib import pyplot as plt\n",
    "from dtree import DT\n",
    "from rforest import RF\n",
    "%matplotlib inline\n",
    "%load_ext autoreload\n",
    "%autoreload 2"
   ]
  },
  {
   "cell_type": "code",
   "execution_count": 2,
   "metadata": {},
   "outputs": [],
   "source": [
    "def accuracy(y_true: np.ndarray, y_pred):\n",
    "    return (y_pred==y_true).mean()"
   ]
  },
  {
   "cell_type": "code",
   "execution_count": 3,
   "metadata": {},
   "outputs": [],
   "source": [
    "def read_file(file):\n",
    "    df = pd.read_csv(\"data/\" + file)\n",
    "    X = df[list(df)[:-1]].to_numpy()\n",
    "    y = df[list(df)[-1]].to_numpy()\n",
    "    return X, y"
   ]
  },
  {
   "cell_type": "code",
   "execution_count": 4,
   "metadata": {},
   "outputs": [],
   "source": [
    "def read(num):\n",
    "    train_file = num + \"_train.csv\"\n",
    "    X_train, y_train = read_file(train_file)\n",
    "    \n",
    "    test_file = num + \"_test.csv\"\n",
    "    X_test, y_test = read_file(test_file)\n",
    "    \n",
    "    return X_train, y_train, X_test, y_test"
   ]
  },
  {
   "cell_type": "code",
   "execution_count": 5,
   "metadata": {},
   "outputs": [
    {
     "name": "stdout",
     "output_type": "stream",
     "text": [
      "File: 01\n",
      "Best H: 1 Accuracy: 0.3968131585710614\n",
      "Best H: 2 Accuracy: 0.42456951940375226\n",
      "Best H: 4 Accuracy: 0.6846569005397071\n",
      "Best H: 8 Accuracy: 0.7920842970958623\n",
      "Best H: 12 Accuracy: 0.8776664096633257\n",
      "Best H: 14 Accuracy: 0.905165767154973\n",
      "File: 02\n",
      "Best H: 1 Accuracy: 0.18447837150127228\n",
      "Best H: 4 Accuracy: 0.1926208651399491\n",
      "File: 03\n",
      "Best H: 1 Accuracy: 0.8659594985535197\n",
      "Best H: 8 Accuracy: 0.9305689488910318\n",
      "File: 04\n",
      "Best H: 1 Accuracy: 0.5078260869565218\n",
      "Best H: 2 Accuracy: 0.5220869565217391\n",
      "Best H: 12 Accuracy: 0.5641739130434783\n",
      "File: 05\n",
      "Best H: 1 Accuracy: 0.922077922077922\n",
      "Best H: 4 Accuracy: 0.961038961038961\n",
      "File: 06\n",
      "Best H: 1 Accuracy: 0.5905077262693157\n",
      "Best H: 4 Accuracy: 0.6214128035320088\n",
      "Best H: 12 Accuracy: 0.6578366445916115\n",
      "Best H: 14 Accuracy: 0.7461368653421634\n",
      "File: 07\n",
      "Best H: 1 Accuracy: 0.3851162790697674\n",
      "Best H: 2 Accuracy: 0.4013953488372093\n",
      "Best H: 8 Accuracy: 0.4720930232558139\n",
      "File: 08\n",
      "Best H: 1 Accuracy: 0.9708939708939709\n",
      "File: 09\n",
      "Best H: 1 Accuracy: 0.31176470588235294\n",
      "Best H: 4 Accuracy: 0.3156862745098039\n",
      "Best H: 14 Accuracy: 0.3843137254901961\n",
      "File: 10\n",
      "Best H: 1 Accuracy: 0.33883299798792754\n",
      "Best H: 4 Accuracy: 0.47203219315895373\n",
      "Best H: 8 Accuracy: 0.6044265593561369\n",
      "Best H: 12 Accuracy: 0.792354124748491\n",
      "Best H: 14 Accuracy: 0.8253521126760563\n",
      "File: 11\n",
      "Best H: 1 Accuracy: 0.7826961770623743\n",
      "Best H: 4 Accuracy: 0.7927565392354124\n",
      "Best H: 8 Accuracy: 0.8317907444668008\n",
      "Best H: 12 Accuracy: 0.8961770623742454\n",
      "Best H: 14 Accuracy: 0.9150905432595573\n",
      "File: 12\n",
      "Best H: 1 Accuracy: 0.38815604827392647\n",
      "Best H: 2 Accuracy: 0.5453269716531013\n",
      "Best H: 4 Accuracy: 0.5456076340162784\n",
      "Best H: 8 Accuracy: 0.6665731125456076\n",
      "Best H: 12 Accuracy: 0.7577883805781644\n",
      "File: 13\n",
      "Best H: 1 Accuracy: 0.30091743119266057\n",
      "Best H: 4 Accuracy: 0.336697247706422\n",
      "File: 14\n",
      "Best H: 1 Accuracy: 0.26167502894635275\n",
      "Best H: 2 Accuracy: 0.2763411810111926\n",
      "Best H: 8 Accuracy: 0.35970667695870323\n",
      "File: 15\n",
      "Best H: 1 Accuracy: 0.9501501501501501\n",
      "Best H: 4 Accuracy: 0.9615615615615616\n",
      "File: 16\n",
      "Best H: 1 Accuracy: 0.5065420560747663\n",
      "Best H: 8 Accuracy: 0.559190031152648\n",
      "Best H: 12 Accuracy: 0.6532710280373831\n",
      "File: 17\n",
      "Best H: 1 Accuracy: 0.2216638749302066\n",
      "Best H: 14 Accuracy: 0.2601898380792853\n",
      "File: 18\n",
      "Best H: 1 Accuracy: 0.5465376023827252\n",
      "Best H: 2 Accuracy: 0.5703648548026806\n",
      "File: 19\n",
      "Best H: 1 Accuracy: 0.24756189047261815\n",
      "Best H: 2 Accuracy: 0.37959489872468116\n",
      "Best H: 4 Accuracy: 0.3825956489122281\n",
      "Best H: 8 Accuracy: 0.4898724681170293\n",
      "Best H: 14 Accuracy: 0.49362340585146286\n",
      "File: 20\n",
      "Best H: 1 Accuracy: 0.4037242472266244\n",
      "Best H: 2 Accuracy: 0.5170364500792393\n",
      "Best H: 4 Accuracy: 0.7361331220285261\n",
      "Best H: 8 Accuracy: 0.8577654516640254\n",
      "Best H: 12 Accuracy: 0.8914421553090333\n",
      "File: 21\n",
      "Best H: 1 Accuracy: 0.23462270133164237\n",
      "Best H: 2 Accuracy: 0.28154724159797084\n",
      "Best H: 4 Accuracy: 0.38363982244768546\n",
      "Best H: 8 Accuracy: 0.4679771718452758\n",
      "Best H: 12 Accuracy: 0.5041217501585289\n",
      "Best H: 14 Accuracy: 0.528852251109702\n",
      "01 02 03 04 05 06 07 08 09 10 11 12 13 14 15 16 17 18 19 20 21\n"
     ]
    }
   ],
   "source": [
    "best_h = {}\n",
    "for i in range(1, 22):\n",
    "    num = str(i) if i >= 10 else '0' + str(i)\n",
    "    X_train, y_train, X_test, y_test = read(num)\n",
    "    \n",
    "    print(\"File:\", num)\n",
    "    for H in [1, 2, 4, 8, 12, 14]:\n",
    "        tree = DT(H)\n",
    "        tree.fit(X_train, y_train)\n",
    "        \n",
    "        result = accuracy(y_test, tree.predict(X_test))\n",
    "        if result > best_h.get(num, (0, 0))[1]:\n",
    "            best_h[num] = (H, result)\n",
    "            print(\"Best H:\", best_h[num][0], \"Accuracy:\", best_h[num][1])\n",
    "\n",
    "print(best_h)"
   ]
  },
  {
   "cell_type": "code",
   "execution_count": 14,
   "metadata": {},
   "outputs": [
    {
     "name": "stdout",
     "output_type": "stream",
     "text": [
      "File: 01 \t H: 14 \t accuracy: 0.905165767154973\n",
      "File: 02 \t H: 4 \t accuracy: 0.1926208651399491\n",
      "File: 03 \t H: 8 \t accuracy: 0.9305689488910318\n",
      "File: 04 \t H: 12 \t accuracy: 0.5641739130434783\n",
      "File: 05 \t H: 4 \t accuracy: 0.961038961038961\n",
      "File: 06 \t H: 14 \t accuracy: 0.7461368653421634\n",
      "File: 07 \t H: 8 \t accuracy: 0.4720930232558139\n",
      "File: 08 \t H: 1 \t accuracy: 0.9708939708939709\n",
      "File: 09 \t H: 14 \t accuracy: 0.3843137254901961\n",
      "File: 10 \t H: 14 \t accuracy: 0.8253521126760563\n",
      "File: 11 \t H: 14 \t accuracy: 0.9150905432595573\n",
      "File: 12 \t H: 12 \t accuracy: 0.7577883805781644\n",
      "File: 13 \t H: 4 \t accuracy: 0.336697247706422\n",
      "File: 14 \t H: 8 \t accuracy: 0.35970667695870323\n",
      "File: 15 \t H: 4 \t accuracy: 0.9615615615615616\n",
      "File: 16 \t H: 12 \t accuracy: 0.6532710280373831\n",
      "File: 17 \t H: 14 \t accuracy: 0.2601898380792853\n",
      "File: 18 \t H: 2 \t accuracy: 0.5703648548026806\n",
      "File: 19 \t H: 14 \t accuracy: 0.49362340585146286\n",
      "File: 20 \t H: 12 \t accuracy: 0.8914421553090333\n",
      "File: 21 \t H: 14 \t accuracy: 0.528852251109702\n"
     ]
    }
   ],
   "source": [
    "for k, v in best_h.items():\n",
    "    print(\"File:\", k, '\\t', \"H:\", v[0], '\\t', \"accuracy:\", v[1])"
   ]
  },
  {
   "cell_type": "code",
   "execution_count": 13,
   "metadata": {},
   "outputs": [
    {
     "data": {
      "image/png": "[encoded data removed]",
      "text/plain": [
       "<Figure size 432x288 with 1 Axes>"
      ]
     },
     "metadata": {
      "needs_background": "light"
     },
     "output_type": "display_data"
    },
    {
     "data": {
      "image/png": "[encoded data removed]",
      "text/plain": [
       "<Figure size 432x288 with 1 Axes>"
      ]
     },
     "metadata": {
      "needs_background": "light"
     },
     "output_type": "display_data"
    }
   ],
   "source": [
    "min_file = \"01\"\n",
    "max_file = \"01\"\n",
    "\n",
    "for k in best_h.keys():\n",
    "    if best_h[min_file][0] > best_h[k][0]: min_file = k\n",
    "    if best_h[max_file][0] < best_h[k][0]: max_file = k\n",
    "\n",
    "for num in [min_file, max_file]:\n",
    "    X_train, y_train, X_test, y_test = read(num)\n",
    "    \n",
    "    acc_test = []\n",
    "    acc_train = []\n",
    "    for H in range(1, 15):\n",
    "        tree = DT(H)\n",
    "        tree.fit(X_train, y_train)\n",
    "        acc_test.append(accuracy(y_test, tree.predict(X_test)))\n",
    "        acc_train.append(accuracy(y_train, tree.predict(X_train)))\n",
    "        \n",
    "    plt.plot(range(1, 15), acc_train, label=\"train\")\n",
    "    plt.plot(range(1, 15), acc_test, label=\"test\")\n",
    "    plt.title(\"File: \" + num)\n",
    "    plt.legend()\n",
    "    plt.show()"
   ]
  },
  {
   "cell_type": "code",
   "execution_count": 15,
   "metadata": {},
   "outputs": [
    {
     "name": "stdout",
     "output_type": "stream",
     "text": [
      "File: 01\n",
      "Forest: train: 0.9542534052942688 test: 0.8270367514777692\n",
      "File: 02\n",
      "Forest: train: 0.8091603053435115 test: 0.16539440203562342\n",
      "File: 03\n",
      "Forest: train: 0.9657666345226615 test: 0.8587270973963356\n",
      "File: 04\n",
      "Forest: train: 0.9297391304347826 test: 0.6309565217391304\n",
      "File: 05\n",
      "Forest: train: 0.9891774891774892 test: 0.9718614718614719\n",
      "File: 06\n",
      "Forest: train: 0.9431567328918322 test: 0.6318984547461368\n",
      "File: 07\n",
      "Forest: train: 0.8874418604651163 test: 0.44976744186046513\n",
      "File: 08\n",
      "Forest: train: 0.9833679833679834 test: 0.9604989604989606\n",
      "File: 09\n",
      "Forest: train: 0.8490196078431372 test: 0.296078431372549\n",
      "File: 10\n",
      "Forest: train: 0.9420523138832998 test: 0.7537223340040241\n",
      "File: 11\n",
      "Forest: train: 0.9754527162977867 test: 0.9323943661971831\n",
      "File: 12\n",
      "Forest: train: 0.9385349424642155 test: 0.6817288801571709\n",
      "File: 13\n",
      "Forest: train: 0.8357798165137614 test: 0.20275229357798166\n",
      "File: 14\n",
      "Forest: train: 0.8695484368969509 test: 0.37205712080277886\n",
      "File: 15\n",
      "Forest: train: 0.9711711711711711 test: 0.9501501501501501\n",
      "File: 16\n",
      "Forest: train: 0.9454828660436138 test: 0.7283489096573209\n",
      "File: 17\n",
      "Forest: train: 0.8447794528196538 test: 0.2116136236739252\n",
      "File: 18\n",
      "Forest: train: 0.8987341772151899 test: 0.4892032762472077\n",
      "File: 19\n",
      "Forest: train: 0.8957239309827457 test: 0.39909977494373594\n",
      "File: 20\n",
      "Forest: train: 0.9572107765451664 test: 0.8371632329635499\n",
      "File: 21\n",
      "Forest: train: 0.8941027266962587 test: 0.4051997463538364\n",
      "\n",
      "01 0.9542534052942688 0.8270367514777692\n",
      "02 0.8091603053435115 0.16539440203562342\n",
      "03 0.9657666345226615 0.8587270973963356\n",
      "04 0.9297391304347826 0.6309565217391304\n",
      "05 0.9891774891774892 0.9718614718614719\n",
      "06 0.9431567328918322 0.6318984547461368\n",
      "07 0.8874418604651163 0.44976744186046513\n",
      "08 0.9833679833679834 0.9604989604989606\n",
      "09 0.8490196078431372 0.296078431372549\n",
      "10 0.9420523138832998 0.7537223340040241\n",
      "11 0.9754527162977867 0.9323943661971831\n",
      "12 0.9385349424642155 0.6817288801571709\n",
      "13 0.8357798165137614 0.20275229357798166\n",
      "14 0.8695484368969509 0.37205712080277886\n",
      "15 0.9711711711711711 0.9501501501501501\n",
      "16 0.9454828660436138 0.7283489096573209\n",
      "17 0.8447794528196538 0.2116136236739252\n",
      "18 0.8987341772151899 0.4892032762472077\n",
      "19 0.8957239309827457 0.39909977494373594\n",
      "20 0.9572107765451664 0.8371632329635499\n",
      "21 0.8941027266962587 0.4051997463538364\n"
     ]
    }
   ],
   "source": [
    "rforest_results = []\n",
    "for i in range(1, 22):\n",
    "    num = str(i) if i >= 10 else '0' + str(i)\n",
    "   \n",
    "    X_train, y_train, X_test, y_test = read(num)\n",
    "\n",
    "    print(\"File:\", num)\n",
    "    \n",
    "    forest = RF()\n",
    "    forest.fit(X_train, y_train)\n",
    "    acc_tr = accuracy(y_train, forest.predict(X_train))\n",
    "    acc_te = accuracy(y_test, forest.predict(X_test))\n",
    "    \n",
    "    print(\"Forest: train:\", acc_tr, \"test:\", acc_te)   \n",
    "\n",
    "    rforest_results.append((num, acc_tr, acc_te))\n",
    "\n",
    "print()\n",
    "for res in rforest_results:\n",
    "    print(*res)"
   ]
  },
  {
   "cell_type": "code",
   "execution_count": null,
   "metadata": {},
   "outputs": [],
   "source": []
  }
 ],
 "metadata": {
  "kernelspec": {
   "display_name": "Python 3",
   "language": "python",
   "name": "python3"
  },
  "language_info": {
   "codemirror_mode": {
    "name": "ipython",
    "version": 3
   },
   "file_extension": ".py",
   "mimetype": "text/x-python",
   "name": "python",
   "nbconvert_exporter": "python",
   "pygments_lexer": "ipython3",
   "version": "3.7.3"
  }
 },
 "nbformat": 4,
 "nbformat_minor": 4
}
